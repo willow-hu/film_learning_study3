{
 "cells": [
  {
   "cell_type": "markdown",
   "metadata": {},
   "source": [
    "# Objective Evaluations - Scores"
   ]
  },
  {
   "cell_type": "code",
   "execution_count": 6,
   "metadata": {},
   "outputs": [],
   "source": [
    "import pandas as pd\n",
    "from scipy.stats import f_oneway"
   ]
  },
  {
   "cell_type": "code",
   "execution_count": 7,
   "metadata": {},
   "outputs": [
    {
     "data": {
      "text/html": [
       "<div>\n",
       "<style scoped>\n",
       "    .dataframe tbody tr th:only-of-type {\n",
       "        vertical-align: middle;\n",
       "    }\n",
       "\n",
       "    .dataframe tbody tr th {\n",
       "        vertical-align: top;\n",
       "    }\n",
       "\n",
       "    .dataframe thead th {\n",
       "        text-align: right;\n",
       "    }\n",
       "</style>\n",
       "<table border=\"1\" class=\"dataframe\">\n",
       "  <thead>\n",
       "    <tr style=\"text-align: right;\">\n",
       "      <th></th>\n",
       "      <th>strategy</th>\n",
       "      <th>topic</th>\n",
       "      <th>method</th>\n",
       "      <th>participant</th>\n",
       "      <th>score</th>\n",
       "      <th>competence</th>\n",
       "      <th>activity</th>\n",
       "      <th>frustration</th>\n",
       "      <th>pleasure</th>\n",
       "      <th>pressure</th>\n",
       "      <th>effort</th>\n",
       "      <th>immersion</th>\n",
       "      <th>physicality</th>\n",
       "      <th>difficulty</th>\n",
       "      <th>familarity</th>\n",
       "      <th>understanding</th>\n",
       "    </tr>\n",
       "  </thead>\n",
       "  <tbody>\n",
       "    <tr>\n",
       "      <th>0</th>\n",
       "      <td>AN</td>\n",
       "      <td>AN_G</td>\n",
       "      <td>1</td>\n",
       "      <td>3</td>\n",
       "      <td>7</td>\n",
       "      <td>3</td>\n",
       "      <td>6</td>\n",
       "      <td>7</td>\n",
       "      <td>3</td>\n",
       "      <td>2</td>\n",
       "      <td>5</td>\n",
       "      <td>6</td>\n",
       "      <td>2</td>\n",
       "      <td>7</td>\n",
       "      <td>1</td>\n",
       "      <td>3</td>\n",
       "    </tr>\n",
       "    <tr>\n",
       "      <th>1</th>\n",
       "      <td>AN</td>\n",
       "      <td>AN_G</td>\n",
       "      <td>1</td>\n",
       "      <td>1</td>\n",
       "      <td>7</td>\n",
       "      <td>1</td>\n",
       "      <td>7</td>\n",
       "      <td>7</td>\n",
       "      <td>1</td>\n",
       "      <td>7</td>\n",
       "      <td>7</td>\n",
       "      <td>7</td>\n",
       "      <td>6</td>\n",
       "      <td>7</td>\n",
       "      <td>1</td>\n",
       "      <td>1</td>\n",
       "    </tr>\n",
       "    <tr>\n",
       "      <th>2</th>\n",
       "      <td>AN</td>\n",
       "      <td>AN_G</td>\n",
       "      <td>0</td>\n",
       "      <td>16</td>\n",
       "      <td>7</td>\n",
       "      <td>5</td>\n",
       "      <td>4</td>\n",
       "      <td>4</td>\n",
       "      <td>3</td>\n",
       "      <td>3</td>\n",
       "      <td>3</td>\n",
       "      <td>3</td>\n",
       "      <td>2</td>\n",
       "      <td>5</td>\n",
       "      <td>1</td>\n",
       "      <td>5</td>\n",
       "    </tr>\n",
       "    <tr>\n",
       "      <th>3</th>\n",
       "      <td>AN</td>\n",
       "      <td>AN_G</td>\n",
       "      <td>0</td>\n",
       "      <td>2</td>\n",
       "      <td>7</td>\n",
       "      <td>4</td>\n",
       "      <td>5</td>\n",
       "      <td>4</td>\n",
       "      <td>3</td>\n",
       "      <td>3</td>\n",
       "      <td>4</td>\n",
       "      <td>6</td>\n",
       "      <td>3</td>\n",
       "      <td>2</td>\n",
       "      <td>1</td>\n",
       "      <td>5</td>\n",
       "    </tr>\n",
       "    <tr>\n",
       "      <th>4</th>\n",
       "      <td>AN</td>\n",
       "      <td>AN_G</td>\n",
       "      <td>1</td>\n",
       "      <td>7</td>\n",
       "      <td>4</td>\n",
       "      <td>4</td>\n",
       "      <td>4</td>\n",
       "      <td>4</td>\n",
       "      <td>4</td>\n",
       "      <td>3</td>\n",
       "      <td>6</td>\n",
       "      <td>4</td>\n",
       "      <td>3</td>\n",
       "      <td>5</td>\n",
       "      <td>2</td>\n",
       "      <td>3</td>\n",
       "    </tr>\n",
       "  </tbody>\n",
       "</table>\n",
       "</div>"
      ],
      "text/plain": [
       "  strategy topic  method  participant  score  competence  activity  \\\n",
       "0       AN  AN_G       1            3      7           3         6   \n",
       "1       AN  AN_G       1            1      7           1         7   \n",
       "2       AN  AN_G       0           16      7           5         4   \n",
       "3       AN  AN_G       0            2      7           4         5   \n",
       "4       AN  AN_G       1            7      4           4         4   \n",
       "\n",
       "   frustration  pleasure  pressure  effort  immersion  physicality  \\\n",
       "0            7         3         2       5          6            2   \n",
       "1            7         1         7       7          7            6   \n",
       "2            4         3         3       3          3            2   \n",
       "3            4         3         3       4          6            3   \n",
       "4            4         4         3       6          4            3   \n",
       "\n",
       "   difficulty  familarity  understanding  \n",
       "0           7           1              3  \n",
       "1           7           1              1  \n",
       "2           5           1              5  \n",
       "3           2           1              5  \n",
       "4           5           2              3  "
      ]
     },
     "execution_count": 7,
     "metadata": {},
     "output_type": "execute_result"
    }
   ],
   "source": [
    "resp_data = pd.read_csv('questionnaire\\\\response_summary.csv')\n",
    "resp_data.head(5)"
   ]
  },
  {
   "cell_type": "markdown",
   "metadata": {},
   "source": [
    "## Mix-up"
   ]
  },
  {
   "cell_type": "code",
   "execution_count": 8,
   "metadata": {},
   "outputs": [
    {
     "name": "stdout",
     "output_type": "stream",
     "text": [
      "Mean and Standard Deviation of 'score' by 'method':\n",
      "            mean       std\n",
      "method                    \n",
      "0       5.736111  1.373728\n",
      "1       5.763889  1.294550\n",
      "\n",
      "ANOVA Test Result:\n",
      "F-value: 0.0155924014494345\n",
      "p-value: 0.9008034354500833\n"
     ]
    }
   ],
   "source": [
    "# Group by 'method' and compute mean and std of 'score'\n",
    "grouped_data = resp_data.groupby('method')['score'].agg(['mean', 'std'])\n",
    "\n",
    "# Perform ANOVA test\n",
    "anova_result = f_oneway(*[group['score'] for name, group in resp_data.groupby('method')])\n",
    "\n",
    "# Print the mean and std of 'score' for each 'method'\n",
    "print(\"Mean and Standard Deviation of 'score' by 'method':\")\n",
    "print(grouped_data)\n",
    "\n",
    "# Print the ANOVA test result\n",
    "print(\"\\nANOVA Test Result:\")\n",
    "print(\"F-value:\", anova_result.statistic)\n",
    "print(\"p-value:\", anova_result.pvalue)"
   ]
  },
  {
   "cell_type": "markdown",
   "metadata": {},
   "source": [
    "## Add Strategy"
   ]
  },
  {
   "cell_type": "code",
   "execution_count": 13,
   "metadata": {},
   "outputs": [],
   "source": [
    "import pandas as pd\n",
    "import scipy.stats as stats\n",
    "import matplotlib.pyplot as plt\n",
    "import seaborn as sns"
   ]
  },
  {
   "cell_type": "code",
   "execution_count": 14,
   "metadata": {},
   "outputs": [
    {
     "data": {
      "image/png": "[encoded data removed]",
      "text/plain": [
       "<Figure size 1000x600 with 1 Axes>"
      ]
     },
     "metadata": {},
     "output_type": "display_data"
    }
   ],
   "source": [
    "# Plotting\n",
    "plt.figure(figsize=(10, 6))\n",
    "sns.barplot(x='strategy', y='score', hue='method', data=resp_data, palette='viridis')\n",
    "\n",
    "# Set plot title and labels\n",
    "plt.title('Scores by Strategy and Method')\n",
    "plt.xlabel('Strategy')\n",
    "plt.ylabel('Score')\n",
    "\n",
    "# Display the plot\n",
    "plt.show()"
   ]
  },
  {
   "cell_type": "code",
   "execution_count": 16,
   "metadata": {},
   "outputs": [
    {
     "name": "stdout",
     "output_type": "stream",
     "text": [
      "Strategy: AN, F-value: 0.02, p-value: 0.8762\n",
      "Strategy: EE, F-value: 0.53, p-value: 0.4726\n",
      "Strategy: IL, F-value: 0.12, p-value: 0.7369\n",
      "Strategy: LC, F-value: 0.00, p-value: 1.0000\n",
      "Strategy: RQ, F-value: 0.98, p-value: 0.3334\n",
      "Strategy: TP, F-value: 2.95, p-value: 0.0999\n"
     ]
    }
   ],
   "source": [
    "# Function to perform ANOVA for each strategy\n",
    "def anova_per_strategy(df):\n",
    "    strategies = df['strategy'].unique()\n",
    "    results = {}\n",
    "    for strategy in strategies:\n",
    "        subset = df[df['strategy'] == strategy]\n",
    "        groups = [subset[subset['method'] == method]['score'] for method in subset['method'].unique()]\n",
    "        f_val, p_val = stats.f_oneway(*groups)\n",
    "        results[strategy] = {'F-value': f_val, 'p-value': p_val}\n",
    "    return results\n",
    "\n",
    "# Perform ANOVA\n",
    "anova_results = anova_per_strategy(resp_data)\n",
    "\n",
    "# Print the results\n",
    "for strategy, result in anova_results.items():\n",
    "    print(f\"Strategy: {strategy}, F-value: {result['F-value']:.2f}, p-value: {result['p-value']:.4f}\")\n"
   ]
  },
  {
   "cell_type": "markdown",
   "metadata": {},
   "source": [
    "## Add Person"
   ]
  },
  {
   "cell_type": "code",
   "execution_count": 17,
   "metadata": {},
   "outputs": [
    {
     "data": {
      "image/png": "[encoded data removed]",
      "text/plain": [
       "<Figure size 1000x600 with 1 Axes>"
      ]
     },
     "metadata": {},
     "output_type": "display_data"
    }
   ],
   "source": [
    "# Plotting\n",
    "plt.figure(figsize=(10, 6))\n",
    "sns.barplot(x='participant', y='score', hue='method', data=resp_data, palette='viridis')\n",
    "\n",
    "# Set plot title and labels\n",
    "plt.title('Scores by Participant and Method')\n",
    "plt.xlabel('Participant')\n",
    "plt.ylabel('Score')\n",
    "\n",
    "# Display the plot\n",
    "plt.show()"
   ]
  }
 ],
 "metadata": {
  "kernelspec": {
   "display_name": "da",
   "language": "python",
   "name": "python3"
  },
  "language_info": {
   "codemirror_mode": {
    "name": "ipython",
    "version": 3
   },
   "file_extension": ".py",
   "mimetype": "text/x-python",
   "name": "python",
   "nbconvert_exporter": "python",
   "pygments_lexer": "ipython3",
   "version": "3.12.4"
  }
 },
 "nbformat": 4,
 "nbformat_minor": 2
}
